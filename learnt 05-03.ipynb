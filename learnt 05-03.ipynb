{
 "cells": [
  {
   "cell_type": "code",
   "execution_count": 1,
   "metadata": {},
   "outputs": [],
   "source": [
    "# Setup code and import libraries\n",
    "from bs4 import BeautifulSoup\n",
    "import numpy as np\n",
    "import pandas as pd\n",
    "import re as re\n",
    "import matplotlib.pyplot as plt\n",
    "#* from matplotlib import pyplot as plt\n",
    "\n",
    "np.random.seed(12345) \n",
    "plt.rc('figure', figsize=(10, 6)) # adjusts the default figure size for Matplotlib plots\n",
    "np.set_printoptions(precision=4, suppress=True) \n",
    "pd.options.display.max_rows = 6 \n",
    "\n",
    "'''from bs4 import BeautifulSoup \n",
    "imports the BeautifulSoup class from the bs4 module, which is part of the Beautiful Soup library. Beautiful Soup is a Python library used for web scraping and parsing HTML and XML documents.'''\n",
    "\n",
    "'''import re\n",
    "This imports the regular expression module, which provides support for working with regular expressions in Python. Regular expressions are used for pattern matching and string manipulation.'''\n",
    "\n",
    "'''np.random.seed(12345)\n",
    "When you set a random seed, subsequent calls to random number generation functions will produce the same sequence of random numbers.'''\n",
    "\n",
    "'''np.set_printoptions(precision=4, suppress=True) \n",
    "precision=4 sets the precision for floating-point numbers to 4 decimal places \n",
    "\n",
    "suppress=4 suppresses the printing of small floating-point values in scientific notation. When set to True, NumPy will print floating-point numbers in fixed-point notation instead of scientific notation.\n",
    "'''\n",
    "\n",
    "'''display.max_rows = 6 \n",
    "sets the maximum number of rows displayed when printing Pandas DataFrame or Series objects to 6 rows.'''"
   ]
  },
  {
   "cell_type": "code",
   "execution_count": null,
   "metadata": {},
   "outputs": [],
   "source": []
  }
 ],
 "metadata": {
  "kernelspec": {
   "display_name": "Python 3",
   "language": "python",
   "name": "python3"
  },
  "language_info": {
   "codemirror_mode": {
    "name": "ipython",
    "version": 3
   },
   "file_extension": ".py",
   "mimetype": "text/x-python",
   "name": "python",
   "nbconvert_exporter": "python",
   "pygments_lexer": "ipython3",
   "version": "3.12.1"
  }
 },
 "nbformat": 4,
 "nbformat_minor": 2
}
