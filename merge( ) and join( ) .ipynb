{
 "cells": [
  {
   "cell_type": "markdown",
   "metadata": {},
   "source": [
    "merge( )\n",
    "\n"
   ]
  },
  {
   "cell_type": "code",
   "execution_count": 5,
   "metadata": {},
   "outputs": [
    {
     "name": "stdout",
     "output_type": "stream",
     "text": [
      "  key  value1\n",
      "0   A       1\n",
      "1   B       2\n",
      "2   C       3\n",
      "3   D       4\n",
      "\n",
      "  key  value2\n",
      "0   B   apple\n",
      "1   D  banana\n",
      "2   E  orange\n",
      "3   F   grape\n"
     ]
    }
   ],
   "source": [
    "import pandas as pd\n",
    "\n",
    "# Creating DataFrame df1\n",
    "df1 = pd.DataFrame({\n",
    "    'key': ['A', 'B', 'C', 'D'],\n",
    "    'value1': [1, 2, 3, 4]\n",
    "})\n",
    "\n",
    "# Creating DataFrame df2\n",
    "df2 = pd.DataFrame({\n",
    "    'key': ['B', 'D', 'E', 'F'],\n",
    "    'value2': ['apple', 'banana', 'orange', 'grape']\n",
    "})\n",
    "\n",
    "print(df1)\n",
    "print()\n",
    "print(df2)"
   ]
  },
  {
   "cell_type": "code",
   "execution_count": 6,
   "metadata": {},
   "outputs": [
    {
     "name": "stdout",
     "output_type": "stream",
     "text": [
      "  key  value1  value2\n",
      "0   B       2   apple\n",
      "1   D       4  banana\n"
     ]
    }
   ],
   "source": [
    "# Merging df1 and df2 on the 'key' column\n",
    "merged_df = pd.merge(df1, df2, on='key', how='inner')\n",
    "\n",
    "print(merged_df)\n",
    "\n",
    "'''on : label or list\n",
    "    Column or index level names to join on. These must be found in both DataFrames. If on is None and not merging on indexes then this defaults to the intersection of the columns in both DataFrames.'''"
   ]
  },
  {
   "cell_type": "markdown",
   "metadata": {},
   "source": [
    "join( )\n",
    "\n"
   ]
  },
  {
   "cell_type": "code",
   "execution_count": 7,
   "metadata": {},
   "outputs": [
    {
     "name": "stdout",
     "output_type": "stream",
     "text": [
      "   value1\n",
      "A       1\n",
      "B       2\n",
      "C       3\n",
      "D       4\n",
      "\n",
      "   value2\n",
      "B   apple\n",
      "D  banana\n",
      "E  orange\n",
      "F   grape\n"
     ]
    }
   ],
   "source": [
    "import pandas as pd\n",
    "\n",
    "# Creating DataFrame df1\n",
    "df1 = pd.DataFrame({\n",
    "    'value1': [1, 2, 3, 4]\n",
    "}, index=['A', 'B', 'C', 'D'])\n",
    "\n",
    "# Creating DataFrame df2\n",
    "df2 = pd.DataFrame({\n",
    "    'value2': ['apple', 'banana', 'orange', 'grape']\n",
    "}, index=['B', 'D', 'E', 'F'])\n",
    "\n",
    "print(df1)\n",
    "print()\n",
    "print(df2)"
   ]
  },
  {
   "cell_type": "code",
   "execution_count": 8,
   "metadata": {},
   "outputs": [
    {
     "name": "stdout",
     "output_type": "stream",
     "text": [
      "   value1  value2\n",
      "B       2   apple\n",
      "D       4  banana\n"
     ]
    }
   ],
   "source": [
    "# Joining df1 and df2\n",
    "joined_df = df1.join(df2, how='inner')\n",
    "\n",
    "print(joined_df)"
   ]
  }
 ],
 "metadata": {
  "kernelspec": {
   "display_name": "Python 3",
   "language": "python",
   "name": "python3"
  },
  "language_info": {
   "codemirror_mode": {
    "name": "ipython",
    "version": 3
   },
   "file_extension": ".py",
   "mimetype": "text/x-python",
   "name": "python",
   "nbconvert_exporter": "python",
   "pygments_lexer": "ipython3",
   "version": "3.12.1"
  }
 },
 "nbformat": 4,
 "nbformat_minor": 2
}
